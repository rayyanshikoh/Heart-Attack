{
    "cells": [
        {
            "cell_type": "code",
            "execution_count": 19,
            "source": [
                "import pandas as pd\r\n",
                "import numpy as np\r\n",
                "import xgboost as xgb\r\n",
                "\r\n",
                "import warnings\r\n",
                "warnings.simplefilter(\"ignore\")\r\n",
                "\r\n",
                "from sklearn.model_selection import train_test_split\r\n",
                "from sklearn.metrics import accuracy_score\r\n",
                "from sklearn.model_selection import cross_val_score"
            ],
            "outputs": [],
            "metadata": {}
        },
        {
            "cell_type": "code",
            "execution_count": 20,
            "source": [
                "datapath = './data/heart.csv'\r\n",
                "data = pd.read_csv(datapath)\r\n",
                "data.head()"
            ],
            "outputs": [
                {
                    "output_type": "execute_result",
                    "data": {
                        "text/plain": [
                            "   age  sex  cp  trestbps  chol  fbs  restecg  thalach  exang  oldpeak  slope  \\\n",
                            "0   63    1   3       145   233    1        0      150      0      2.3      0   \n",
                            "1   37    1   2       130   250    0        1      187      0      3.5      0   \n",
                            "2   41    0   1       130   204    0        0      172      0      1.4      2   \n",
                            "3   56    1   1       120   236    0        1      178      0      0.8      2   \n",
                            "4   57    0   0       120   354    0        1      163      1      0.6      2   \n",
                            "\n",
                            "   ca  thal  target  \n",
                            "0   0     1       1  \n",
                            "1   0     2       1  \n",
                            "2   0     2       1  \n",
                            "3   0     2       1  \n",
                            "4   0     2       1  "
                        ],
                        "text/html": [
                            "<div>\n",
                            "<style scoped>\n",
                            "    .dataframe tbody tr th:only-of-type {\n",
                            "        vertical-align: middle;\n",
                            "    }\n",
                            "\n",
                            "    .dataframe tbody tr th {\n",
                            "        vertical-align: top;\n",
                            "    }\n",
                            "\n",
                            "    .dataframe thead th {\n",
                            "        text-align: right;\n",
                            "    }\n",
                            "</style>\n",
                            "<table border=\"1\" class=\"dataframe\">\n",
                            "  <thead>\n",
                            "    <tr style=\"text-align: right;\">\n",
                            "      <th></th>\n",
                            "      <th>age</th>\n",
                            "      <th>sex</th>\n",
                            "      <th>cp</th>\n",
                            "      <th>trestbps</th>\n",
                            "      <th>chol</th>\n",
                            "      <th>fbs</th>\n",
                            "      <th>restecg</th>\n",
                            "      <th>thalach</th>\n",
                            "      <th>exang</th>\n",
                            "      <th>oldpeak</th>\n",
                            "      <th>slope</th>\n",
                            "      <th>ca</th>\n",
                            "      <th>thal</th>\n",
                            "      <th>target</th>\n",
                            "    </tr>\n",
                            "  </thead>\n",
                            "  <tbody>\n",
                            "    <tr>\n",
                            "      <th>0</th>\n",
                            "      <td>63</td>\n",
                            "      <td>1</td>\n",
                            "      <td>3</td>\n",
                            "      <td>145</td>\n",
                            "      <td>233</td>\n",
                            "      <td>1</td>\n",
                            "      <td>0</td>\n",
                            "      <td>150</td>\n",
                            "      <td>0</td>\n",
                            "      <td>2.3</td>\n",
                            "      <td>0</td>\n",
                            "      <td>0</td>\n",
                            "      <td>1</td>\n",
                            "      <td>1</td>\n",
                            "    </tr>\n",
                            "    <tr>\n",
                            "      <th>1</th>\n",
                            "      <td>37</td>\n",
                            "      <td>1</td>\n",
                            "      <td>2</td>\n",
                            "      <td>130</td>\n",
                            "      <td>250</td>\n",
                            "      <td>0</td>\n",
                            "      <td>1</td>\n",
                            "      <td>187</td>\n",
                            "      <td>0</td>\n",
                            "      <td>3.5</td>\n",
                            "      <td>0</td>\n",
                            "      <td>0</td>\n",
                            "      <td>2</td>\n",
                            "      <td>1</td>\n",
                            "    </tr>\n",
                            "    <tr>\n",
                            "      <th>2</th>\n",
                            "      <td>41</td>\n",
                            "      <td>0</td>\n",
                            "      <td>1</td>\n",
                            "      <td>130</td>\n",
                            "      <td>204</td>\n",
                            "      <td>0</td>\n",
                            "      <td>0</td>\n",
                            "      <td>172</td>\n",
                            "      <td>0</td>\n",
                            "      <td>1.4</td>\n",
                            "      <td>2</td>\n",
                            "      <td>0</td>\n",
                            "      <td>2</td>\n",
                            "      <td>1</td>\n",
                            "    </tr>\n",
                            "    <tr>\n",
                            "      <th>3</th>\n",
                            "      <td>56</td>\n",
                            "      <td>1</td>\n",
                            "      <td>1</td>\n",
                            "      <td>120</td>\n",
                            "      <td>236</td>\n",
                            "      <td>0</td>\n",
                            "      <td>1</td>\n",
                            "      <td>178</td>\n",
                            "      <td>0</td>\n",
                            "      <td>0.8</td>\n",
                            "      <td>2</td>\n",
                            "      <td>0</td>\n",
                            "      <td>2</td>\n",
                            "      <td>1</td>\n",
                            "    </tr>\n",
                            "    <tr>\n",
                            "      <th>4</th>\n",
                            "      <td>57</td>\n",
                            "      <td>0</td>\n",
                            "      <td>0</td>\n",
                            "      <td>120</td>\n",
                            "      <td>354</td>\n",
                            "      <td>0</td>\n",
                            "      <td>1</td>\n",
                            "      <td>163</td>\n",
                            "      <td>1</td>\n",
                            "      <td>0.6</td>\n",
                            "      <td>2</td>\n",
                            "      <td>0</td>\n",
                            "      <td>2</td>\n",
                            "      <td>1</td>\n",
                            "    </tr>\n",
                            "  </tbody>\n",
                            "</table>\n",
                            "</div>"
                        ]
                    },
                    "metadata": {},
                    "execution_count": 20
                }
            ],
            "metadata": {}
        },
        {
            "cell_type": "code",
            "execution_count": 21,
            "source": [
                "X_columns_drop = ['target', 'cp']\r\n",
                "\r\n",
                "\r\n",
                "X = data.drop(X_columns_drop, axis=1)\r\n",
                "y = data['target']\r\n",
                "\r\n",
                "\r\n",
                "X_train, X_test, y_train, y_test = train_test_split(X, y, train_size=0.8, test_size=0.2, random_state=42)"
            ],
            "outputs": [],
            "metadata": {}
        },
        {
            "cell_type": "code",
            "execution_count": 22,
            "source": [
                "def xgbooster(X, y):\r\n",
                "    params = {'early_stopping_rounds':3, 'eval_set':[(X_test, y_test)], 'verbose':False}\r\n",
                "    clf_xgb = xgb.XGBClassifier(n_estimators = 700, learning_rate = 0.0025, n_jobs = 12, use_label_encoder=False, verbosity=0)\r\n",
                "    scores = cross_val_score(clf_xgb, X, y, cv=5, scoring='f1', fit_params=(params))\r\n",
                "    print(\"Accuracy scores: \", ((scores.mean())*100), \"%\")\r\n"
            ],
            "outputs": [],
            "metadata": {}
        },
        {
            "cell_type": "code",
            "execution_count": 23,
            "source": [
                "xgbooster(X, y)"
            ],
            "outputs": [
                {
                    "output_type": "stream",
                    "name": "stdout",
                    "text": [
                        "Accuracy scores:  82.18822530166348 %\n"
                    ]
                }
            ],
            "metadata": {}
        },
        {
            "cell_type": "code",
            "execution_count": 24,
            "source": [
                "clf_xgb.fit(X_train, y_train, early_stopping_rounds=3, eval_set=[(X_test, y_test)], verbose=False)\r\n",
                "prediction = clf_xgb.predict(X_test)\r\n",
                "print(\"Accuracy Score: \" + str(accuracy_score(y_test, prediction)))"
            ],
            "outputs": [
                {
                    "output_type": "stream",
                    "name": "stdout",
                    "text": [
                        "Accuracy Score: 0.7540983606557377\n"
                    ]
                }
            ],
            "metadata": {}
        },
        {
            "cell_type": "code",
            "execution_count": 25,
            "source": [
                "results = clf_xgb.evals_result()\r\n",
                "# print(results)"
            ],
            "outputs": [],
            "metadata": {}
        },
        {
            "cell_type": "code",
            "execution_count": 26,
            "source": [
                "from sklearn.preprocessing import MinMaxScaler\r\n",
                "scaler = MinMaxScaler()\r\n",
                "scaled_X = scaler.fit_transform(X)\r\n",
                "scaled_X = pd.DataFrame(scaled_X, columns=X.columns)\r\n",
                "scaled_X.head()"
            ],
            "outputs": [
                {
                    "output_type": "execute_result",
                    "data": {
                        "text/plain": [
                            "        age  sex  trestbps      chol  fbs  restecg   thalach  exang   oldpeak  \\\n",
                            "0  0.708333  1.0  0.481132  0.244292  1.0      0.0  0.603053    0.0  0.370968   \n",
                            "1  0.166667  1.0  0.339623  0.283105  0.0      0.5  0.885496    0.0  0.564516   \n",
                            "2  0.250000  0.0  0.339623  0.178082  0.0      0.0  0.770992    0.0  0.225806   \n",
                            "3  0.562500  1.0  0.245283  0.251142  0.0      0.5  0.816794    0.0  0.129032   \n",
                            "4  0.583333  0.0  0.245283  0.520548  0.0      0.5  0.702290    1.0  0.096774   \n",
                            "\n",
                            "   slope   ca      thal  \n",
                            "0    0.0  0.0  0.333333  \n",
                            "1    0.0  0.0  0.666667  \n",
                            "2    1.0  0.0  0.666667  \n",
                            "3    1.0  0.0  0.666667  \n",
                            "4    1.0  0.0  0.666667  "
                        ],
                        "text/html": [
                            "<div>\n",
                            "<style scoped>\n",
                            "    .dataframe tbody tr th:only-of-type {\n",
                            "        vertical-align: middle;\n",
                            "    }\n",
                            "\n",
                            "    .dataframe tbody tr th {\n",
                            "        vertical-align: top;\n",
                            "    }\n",
                            "\n",
                            "    .dataframe thead th {\n",
                            "        text-align: right;\n",
                            "    }\n",
                            "</style>\n",
                            "<table border=\"1\" class=\"dataframe\">\n",
                            "  <thead>\n",
                            "    <tr style=\"text-align: right;\">\n",
                            "      <th></th>\n",
                            "      <th>age</th>\n",
                            "      <th>sex</th>\n",
                            "      <th>trestbps</th>\n",
                            "      <th>chol</th>\n",
                            "      <th>fbs</th>\n",
                            "      <th>restecg</th>\n",
                            "      <th>thalach</th>\n",
                            "      <th>exang</th>\n",
                            "      <th>oldpeak</th>\n",
                            "      <th>slope</th>\n",
                            "      <th>ca</th>\n",
                            "      <th>thal</th>\n",
                            "    </tr>\n",
                            "  </thead>\n",
                            "  <tbody>\n",
                            "    <tr>\n",
                            "      <th>0</th>\n",
                            "      <td>0.708333</td>\n",
                            "      <td>1.0</td>\n",
                            "      <td>0.481132</td>\n",
                            "      <td>0.244292</td>\n",
                            "      <td>1.0</td>\n",
                            "      <td>0.0</td>\n",
                            "      <td>0.603053</td>\n",
                            "      <td>0.0</td>\n",
                            "      <td>0.370968</td>\n",
                            "      <td>0.0</td>\n",
                            "      <td>0.0</td>\n",
                            "      <td>0.333333</td>\n",
                            "    </tr>\n",
                            "    <tr>\n",
                            "      <th>1</th>\n",
                            "      <td>0.166667</td>\n",
                            "      <td>1.0</td>\n",
                            "      <td>0.339623</td>\n",
                            "      <td>0.283105</td>\n",
                            "      <td>0.0</td>\n",
                            "      <td>0.5</td>\n",
                            "      <td>0.885496</td>\n",
                            "      <td>0.0</td>\n",
                            "      <td>0.564516</td>\n",
                            "      <td>0.0</td>\n",
                            "      <td>0.0</td>\n",
                            "      <td>0.666667</td>\n",
                            "    </tr>\n",
                            "    <tr>\n",
                            "      <th>2</th>\n",
                            "      <td>0.250000</td>\n",
                            "      <td>0.0</td>\n",
                            "      <td>0.339623</td>\n",
                            "      <td>0.178082</td>\n",
                            "      <td>0.0</td>\n",
                            "      <td>0.0</td>\n",
                            "      <td>0.770992</td>\n",
                            "      <td>0.0</td>\n",
                            "      <td>0.225806</td>\n",
                            "      <td>1.0</td>\n",
                            "      <td>0.0</td>\n",
                            "      <td>0.666667</td>\n",
                            "    </tr>\n",
                            "    <tr>\n",
                            "      <th>3</th>\n",
                            "      <td>0.562500</td>\n",
                            "      <td>1.0</td>\n",
                            "      <td>0.245283</td>\n",
                            "      <td>0.251142</td>\n",
                            "      <td>0.0</td>\n",
                            "      <td>0.5</td>\n",
                            "      <td>0.816794</td>\n",
                            "      <td>0.0</td>\n",
                            "      <td>0.129032</td>\n",
                            "      <td>1.0</td>\n",
                            "      <td>0.0</td>\n",
                            "      <td>0.666667</td>\n",
                            "    </tr>\n",
                            "    <tr>\n",
                            "      <th>4</th>\n",
                            "      <td>0.583333</td>\n",
                            "      <td>0.0</td>\n",
                            "      <td>0.245283</td>\n",
                            "      <td>0.520548</td>\n",
                            "      <td>0.0</td>\n",
                            "      <td>0.5</td>\n",
                            "      <td>0.702290</td>\n",
                            "      <td>1.0</td>\n",
                            "      <td>0.096774</td>\n",
                            "      <td>1.0</td>\n",
                            "      <td>0.0</td>\n",
                            "      <td>0.666667</td>\n",
                            "    </tr>\n",
                            "  </tbody>\n",
                            "</table>\n",
                            "</div>"
                        ]
                    },
                    "metadata": {},
                    "execution_count": 26
                }
            ],
            "metadata": {}
        },
        {
            "cell_type": "code",
            "execution_count": 27,
            "source": [
                "xgbooster(scaled_X, y)"
            ],
            "outputs": [
                {
                    "output_type": "stream",
                    "name": "stdout",
                    "text": [
                        "Accuracy scores:  82.35592974334051 %\n"
                    ]
                }
            ],
            "metadata": {}
        }
    ],
    "metadata": {
        "orig_nbformat": 4,
        "language_info": {
            "name": "python",
            "version": "3.9.4",
            "mimetype": "text/x-python",
            "codemirror_mode": {
                "name": "ipython",
                "version": 3
            },
            "pygments_lexer": "ipython3",
            "nbconvert_exporter": "python",
            "file_extension": ".py"
        },
        "kernelspec": {
            "name": "python3",
            "display_name": "Python 3.9.4 64-bit ('heart': conda)"
        },
        "interpreter": {
            "hash": "aac803e25b3ca3cc75a1af9c382781788a648dbf5a187389b66a82c4f14de18c"
        }
    },
    "nbformat": 4,
    "nbformat_minor": 2
}